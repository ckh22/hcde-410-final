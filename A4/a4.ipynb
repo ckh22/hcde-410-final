{
 "cells": [
  {
   "cell_type": "markdown",
   "id": "7dc47fca-b0a7-44e6-89bd-8630dfe30c4f",
   "metadata": {},
   "source": [
    "# A5 Final Project Plan"
   ]
  },
  {
   "cell_type": "markdown",
   "id": "118fe8ca-9590-498a-81ec-f6df30010de4",
   "metadata": {},
   "source": [
    "<hr />"
   ]
  },
  {
   "cell_type": "markdown",
   "id": "8c8e87ea-9e62-439d-a44f-d5364ef8b709",
   "metadata": {},
   "source": [
    "### 1. Research Question\n",
    "#### Hypothesis\n",
    "<p>For my final project, I'd like to have an indepth analysis of the World Happiness Report (WHR) for the year 2020. I'd like to confirm my theory that if a country has a relatively happy population, then the country should be able to produce more billionaires and expect better GDP growth because happiness is linked to longer lifespans. </p>\n",
    "\n",
    "### 2. Background\n",
    "#### Billionaires, Millionaires, Inequality, and Happiness\n",
    "<p>After doing a couple searches on Google, I was able to find the research article \"Billionaires, Millionaires, Inequality, and Happiness\" by Vladimir Popov (published 2019). This article was an indepth analysis of the WHR data from the 2000s to 2018, and \"examined the relationship between income inequality and happiness\". The author comes to many conclusions, but one that stuck out to me was the finding that the \"most rapid growth in the number of self-made billionaires and in the growth in their wealth is East Asia\". This is important because I'd like to relate this to the happiness data to understand whether those countries usually have higher happiness and life satisfaction. Pertaining to whether a correlation exists between the amount of billionaires to happiness scores, the author found that they were positively correlated.</p>\n",
    "\n",
    "<a target='_blank' href='https://doc-research.org/wp-content/uploads/2019/05/Happy-billionaires_Download-file.pdf'>\n",
    "  Link\n",
    "</a>\n",
    "\n",
    "#### Dataset: World Happiness Report (WHR) 2020\n",
    "<p>Important column values from the WHR.</p>\n",
    "\n",
    "- GDP per capita\n",
    "- Life expectancy\n",
    "- Social support\n",
    "- Freedom\n",
    "- Generosity\n",
    "- Corruption Perception\n",
    "\n",
    "I will use these fields to make conclusions about what impacts the production of billionaires the most. In addition to visulizations about happiness in relation to GDP growth. \n",
    "<ul>\n",
    "    <li>\n",
    "        <a target='_blank' href='https://happiness-report.s3.amazonaws.com/2020/WHR20_Ch2_Statistical_Appendix.pdf' >\n",
    "          Link to Dataset\n",
    "        </a>\n",
    "    </li>\n",
    "    <li>\n",
    "        <a target='_blank' href='https://happiness-report.s3.amazonaws.com/2020/WHR20_Ch2_Statistical_Appendix.pdf' >\n",
    "          Appendix Information\n",
    "        </a>\n",
    "    </li>\n",
    "</ul>\n",
    "\n",
    "#### Dataset: Forbes Billionaires (FB)\n",
    "<p>Important column values from FB</p>\n",
    "\n",
    "- Net worth\n",
    "- Country (*very important)\n",
    "- Source (can be used for wordcloud)\n",
    "- Rank\n",
    "- Residence (can be compared to citizenship to understand whether billionaires end up living in their country)\n",
    "- Citizenship\n",
    "- Children (Can understand if billionaires in happy countries end up with more kids) \n",
    "\n",
    "The dataset has 2752 unique values, and provides an apt amount of data to compare with the WHR 2020. The networth doesn't exactly matter, but can be used for further analysis as well. \n",
    "\n",
    "<a target='_blank' href='https://www.kaggle.com/alexanderbader/forbes-billionaires-of-2021-20' >\n",
    "  Link to Dataset\n",
    "</a>\n",
    "\n",
    "\n",
    "\n",
    "### 3. Methodology\n",
    "#### Steps that will be taken to analyze the data\n",
    "\n",
    "<hr />\n",
    "<strong>Organizing & getting the data</strong>\n",
    "\n",
    "1. Download the two datasets, Forbes Billionaire List and the WHR.\n",
    "2. Use a hash function to gather the first unique value of a country (make sure to get rid of duplicates)\n",
    "3. Make a dictionary of each country with a JSON object including all of the billionaires born and mainly residing there. \n",
    "\n",
    "<hr />\n",
    "\n",
    "<strong>Graphing the data</strong>\n",
    "\n",
    "4.  A lot of the graphing operations will be done through simple x and y graphs with dot plots. \n",
    "5.  Ordinary least squares will be the main analytical method used in this research. \n",
    "6.  The visualizations will be handled through Plotly, while the data will be managed with Pandas. \n",
    "7.  Though I had yet to decide whether to use a map within the visualizations, it will be considered. In cluding Principal Component Analysis (PCA), and \n",
    "8.  For the methods, I talked to Himanshu about potentially implementing a function that considers sub variables and their respective coefficients. (Will discuss further with him)\n",
    "9.  For the graphs, I was considering scatter plots, bubble charts, bar charts, and ML regression. \n",
    "\n",
    "<hr />\n",
    "\n",
    "<p>For a lot of the analysis, Plotly Python Graphing Library's documentation will provide all of the instructions to properly implement the graphs. I'd also like to implement a word cloud of how the billionaires made their money. </p>"
   ]
  },
  {
   "cell_type": "code",
   "execution_count": null,
   "id": "9ec5fdda-4398-43ea-9de1-9374b803ad14",
   "metadata": {},
   "outputs": [],
   "source": []
  }
 ],
 "metadata": {
  "kernelspec": {
   "display_name": "Python 3",
   "language": "python",
   "name": "python3"
  },
  "language_info": {
   "codemirror_mode": {
    "name": "ipython",
    "version": 3
   },
   "file_extension": ".py",
   "mimetype": "text/x-python",
   "name": "python",
   "nbconvert_exporter": "python",
   "pygments_lexer": "ipython3",
   "version": "3.8.8"
  }
 },
 "nbformat": 4,
 "nbformat_minor": 5
}
